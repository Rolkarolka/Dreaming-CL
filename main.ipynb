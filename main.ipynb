{
 "cells": [
  {
   "cell_type": "code",
   "execution_count": null,
   "outputs": [],
   "source": [
    "import os\n",
    "from dataclasses import dataclass\n",
    "\n",
    "import hydra\n",
    "import lightning.pytorch as pl\n",
    "from lightning.pytorch.loggers import MLFlowLogger\n",
    "from omegaconf import DictConfig\n",
    "\n",
    "from hydra.core.config_store import ConfigStore\n",
    "\n",
    "from data_module.DreamingDataModule import CIFARDataModule\n",
    "from models.DreamingNet import DreamingNet\n",
    "\n",
    "@dataclass\n",
    "class ExperimentSchema:\n",
    "    batch_size: int\n",
    "    max_epochs: int\n",
    "    name: str\n",
    "    experiment_run: bool\n",
    "    tracking_uri: str\n",
    "    run_name: str\n",
    "\n",
    "\n",
    "@dataclass\n",
    "class ResnetExperimentSchema(ExperimentSchema):\n",
    "    classes_to_learn: list[int]\n",
    "    classes_to_dream: list[int]\n",
    "\n",
    "\n",
    "@dataclass\n",
    "class ConfigSchema:\n",
    "    experiment: ExperimentSchema\n",
    "\n",
    "\n",
    "cs = ConfigStore.instance()\n",
    "cs.store(name=\"config_schema\", node=ConfigSchema)\n",
    "cs.store(group=\"experiment\", name=\"resnet_schema\", node=ResnetExperimentSchema)"
   ],
   "metadata": {
    "collapsed": false,
    "pycharm": {
     "name": "#%%\n"
    }
   }
  },
  {
   "cell_type": "code",
   "execution_count": null,
   "outputs": [],
   "source": [
    "@hydra.main(config_path=\"configs\", config_name=\"config\", version_base=None)\n",
    "def main(config: DictConfig) -> None:\n",
    "    experiment = config.experiment\n",
    "    data_path = os.path.join(os.getcwd(), 'data')\n",
    "\n",
    "    mlf_logger = MLFlowLogger(experiment_name=experiment.name, tracking_uri=experiment.tracking_uri, run_name=experiment.run_name)\n",
    "    dreaming_net = DreamingNet(experiment.classes_to_dream, experiment.classes_to_learn)\n",
    "    cifar_data_module = CIFARDataModule(dreaming_net.teacher, dreaming_net.teacher_class_proportion, experiment.classes_to_learn, experiment.classes_to_dream, mlf_logger, data_path, experiment.batch_size)\n",
    "    trainer = pl.Trainer(logger=mlf_logger if experiment.experiment_run else None, max_epochs=experiment.max_epochs)\n",
    "    trainer.fit(model=dreaming_net, datamodule=cifar_data_module)\n",
    "\n",
    "    dreaming_net.visualize(cifar_data_module)\n",
    "    trainer.test(dreaming_net, datamodule=cifar_data_module)\n",
    "    dreaming_net.save()"
   ],
   "metadata": {
    "collapsed": false,
    "pycharm": {
     "name": "#%%\n"
    }
   }
  }
 ],
 "metadata": {
  "kernelspec": {
   "display_name": "Python 3",
   "language": "python",
   "name": "python3"
  },
  "language_info": {
   "codemirror_mode": {
    "name": "ipython",
    "version": 2
   },
   "file_extension": ".py",
   "mimetype": "text/x-python",
   "name": "python",
   "nbconvert_exporter": "python",
   "pygments_lexer": "ipython2",
   "version": "2.7.6"
  }
 },
 "nbformat": 4,
 "nbformat_minor": 0
}